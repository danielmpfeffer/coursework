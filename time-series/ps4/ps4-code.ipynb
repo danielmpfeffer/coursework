{
 "cells": [
  {
   "cell_type": "code",
   "execution_count": 1,
   "metadata": {},
   "outputs": [
    {
     "name": "stderr",
     "output_type": "stream",
     "text": [
      "/Users/danielmpfeffer/anaconda3/lib/python3.7/site-packages/pandas_datareader/compat/__init__.py:7: FutureWarning: pandas.util.testing is deprecated. Use the functions in the public API at pandas.testing instead.\n",
      "  from pandas.util.testing import assert_frame_equal\n"
     ]
    }
   ],
   "source": [
    "import numpy as np\n",
    "import matplotlib.pyplot as plt\n",
    "import pandas as pd\n",
    "import pandas_datareader.data as web\n",
    "import datetime"
   ]
  },
  {
   "cell_type": "code",
   "execution_count": 2,
   "metadata": {},
   "outputs": [],
   "source": [
    "# 1985:Q1 to 2019:Q4\n",
    "start = datetime.datetime(1985, 1, 1)\n",
    "end = datetime.datetime(2019, 12, 31)\n",
    "\n",
    "# Quarterly U.S. real GDP from the FRED\n",
    "ts = web.DataReader('GDPC1', 'fred', start, end)"
   ]
  },
  {
   "cell_type": "code",
   "execution_count": 4,
   "metadata": {},
   "outputs": [],
   "source": [
    "import statsmodels.api as sm\n",
    "from statsmodels.iolib.summary2 import summary_col\n",
    "\n",
    "# Add constant\n",
    "ts = sm.add_constant(ts)\n",
    "\n",
    "# Add trend variable \n",
    "ts['trend'] = ts.const.cumsum()\n",
    "\n",
    "# Log transformation\n",
    "ts['y'] = np.log(ts['GDPC1'])\n",
    "\n",
    "# Add lag term\n",
    "ts['y_lag1'] = ts['y'].shift()\n",
    "\n",
    "# Drop first observation\n",
    "ts = ts[1:]"
   ]
  },
  {
   "cell_type": "code",
   "execution_count": 5,
   "metadata": {},
   "outputs": [
    {
     "name": "stdout",
     "output_type": "stream",
     "text": [
      "\\begin{table}\n",
      "\\caption{}\n",
      "\\begin{center}\n",
      "\\begin{tabular}{lc}\n",
      "\\hline\n",
      "          &    y      \\\\\n",
      "\\midrule\n",
      "const     & 0.116     \\\\\n",
      "          & (0.104)   \\\\\n",
      "trend     & 0.000     \\\\\n",
      "          & (0.000)   \\\\\n",
      "y\\_lag1   & 0.988***  \\\\\n",
      "          & (0.012)   \\\\\n",
      "R-squared & 1.000     \\\\\n",
      "          & 1.000     \\\\\n",
      "\\hline\n",
      "\\end{tabular}\n",
      "\\end{center}\n",
      "\\end{table}\n"
     ]
    }
   ],
   "source": [
    "# Fit model by OLS\n",
    "mod = sm.OLS(ts['y'], ts[['const', 'trend', 'y_lag1']])\n",
    "res = mod.fit()\n",
    "print(summary_col(res, stars=True, float_format='%0.3f').as_latex())"
   ]
  },
  {
   "cell_type": "code",
   "execution_count": 6,
   "metadata": {},
   "outputs": [],
   "source": [
    "beta1 = res.params.values[0]\n",
    "beta2 = res.params.values[1]\n",
    "beta3 = res.params.values[2]\n",
    "y = [ts['y'][0]]\n",
    "for t in range(1, len(ts)):\n",
    "    y.append(beta1 + beta2*ts['trend'][t] + beta3*y[t-1])\n",
    "    \n",
    "y_tilde =  beta1 + beta2*ts['trend']"
   ]
  },
  {
   "cell_type": "code",
   "execution_count": 7,
   "metadata": {},
   "outputs": [
    {
     "data": {
      "image/png": "[encoded data removed]",
      "text/plain": [
       "<Figure size 864x288 with 2 Axes>"
      ]
     },
     "metadata": {
      "needs_background": "light"
     },
     "output_type": "display_data"
    }
   ],
   "source": [
    "fig, [ax1, ax2] = plt.subplots(1, 2, figsize=(12,4))\n",
    "\n",
    "ax1.plot(mod.data.orig_endog, label='$y_t$')\n",
    "ax1.plot(res.fittedvalues, label='$\\hat y_t$')\n",
    "ax1.plot(ts.index, y, label='Trajectory')\n",
    "ax1.legend()\n",
    "\n",
    "ax2.plot(ts.index, y)\n",
    "ax2.plot(res.fittedvalues)\n",
    "ax2.plot(y_tilde, color='r', label='$\\widetilde y_t$')\n",
    "ax2.legend()\n",
    "\n",
    "plt.savefig('q1-fig')"
   ]
  },
  {
   "cell_type": "code",
   "execution_count": null,
   "metadata": {},
   "outputs": [],
   "source": []
  }
 ],
 "metadata": {
  "kernelspec": {
   "display_name": "Python 3",
   "language": "python",
   "name": "python3"
  },
  "language_info": {
   "codemirror_mode": {
    "name": "ipython",
    "version": 3
   },
   "file_extension": ".py",
   "mimetype": "text/x-python",
   "name": "python",
   "nbconvert_exporter": "python",
   "pygments_lexer": "ipython3",
   "version": "3.7.5"
  }
 },
 "nbformat": 4,
 "nbformat_minor": 4
}
