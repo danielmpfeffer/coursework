{
 "cells": [
  {
   "cell_type": "code",
   "execution_count": 5,
   "metadata": {},
   "outputs": [
    {
     "name": "stderr",
     "output_type": "stream",
     "text": [
      "/Users/danielmpfeffer/anaconda3/lib/python3.7/site-packages/pandas_datareader/compat/__init__.py:7: FutureWarning: pandas.util.testing is deprecated. Use the functions in the public API at pandas.testing instead.\n",
      "  from pandas.util.testing import assert_frame_equal\n"
     ]
    }
   ],
   "source": [
    "import numpy as np\n",
    "import matplotlib.pyplot as plt\n",
    "import pandas as pd\n",
    "import statsmodels.api as sm\n",
    "from statsmodels.tsa.api import VAR\n",
    "import pandas_datareader.data as web\n",
    "import datetime"
   ]
  },
  {
   "cell_type": "code",
   "execution_count": 6,
   "metadata": {},
   "outputs": [],
   "source": [
    "# 1984:Q1 to 2015:Q4\n",
    "start = datetime.datetime(1985, 1, 1)\n",
    "end = datetime.datetime(2019, 12, 31)\n",
    "\n",
    "# Quarterly U.S. real GDP from the FRED\n",
    "ts = web.DataReader(['GDPC1', 'GDPDEF'], 'fred', start, end)"
   ]
  },
  {
   "cell_type": "code",
   "execution_count": 7,
   "metadata": {},
   "outputs": [
    {
     "data": {
      "text/html": [
       "<div>\n",
       "<style scoped>\n",
       "    .dataframe tbody tr th:only-of-type {\n",
       "        vertical-align: middle;\n",
       "    }\n",
       "\n",
       "    .dataframe tbody tr th {\n",
       "        vertical-align: top;\n",
       "    }\n",
       "\n",
       "    .dataframe thead th {\n",
       "        text-align: right;\n",
       "    }\n",
       "</style>\n",
       "<table border=\"1\" class=\"dataframe\">\n",
       "  <thead>\n",
       "    <tr style=\"text-align: right;\">\n",
       "      <th></th>\n",
       "      <th>GDPC1</th>\n",
       "      <th>GDPDEF</th>\n",
       "    </tr>\n",
       "    <tr>\n",
       "      <th>DATE</th>\n",
       "      <th></th>\n",
       "      <th></th>\n",
       "    </tr>\n",
       "  </thead>\n",
       "  <tbody>\n",
       "    <tr>\n",
       "      <th>1985-01-01</th>\n",
       "      <td>7824.247</td>\n",
       "      <td>54.065</td>\n",
       "    </tr>\n",
       "    <tr>\n",
       "      <th>1985-04-01</th>\n",
       "      <td>7893.136</td>\n",
       "      <td>54.413</td>\n",
       "    </tr>\n",
       "    <tr>\n",
       "      <th>1985-07-01</th>\n",
       "      <td>8013.674</td>\n",
       "      <td>54.741</td>\n",
       "    </tr>\n",
       "    <tr>\n",
       "      <th>1985-10-01</th>\n",
       "      <td>8073.239</td>\n",
       "      <td>55.047</td>\n",
       "    </tr>\n",
       "    <tr>\n",
       "      <th>1986-01-01</th>\n",
       "      <td>8148.603</td>\n",
       "      <td>55.321</td>\n",
       "    </tr>\n",
       "    <tr>\n",
       "      <th>...</th>\n",
       "      <td>...</td>\n",
       "      <td>...</td>\n",
       "    </tr>\n",
       "    <tr>\n",
       "      <th>2018-10-01</th>\n",
       "      <td>18783.548</td>\n",
       "      <td>111.256</td>\n",
       "    </tr>\n",
       "    <tr>\n",
       "      <th>2019-01-01</th>\n",
       "      <td>18927.281</td>\n",
       "      <td>111.473</td>\n",
       "    </tr>\n",
       "    <tr>\n",
       "      <th>2019-04-01</th>\n",
       "      <td>19021.860</td>\n",
       "      <td>112.188</td>\n",
       "    </tr>\n",
       "    <tr>\n",
       "      <th>2019-07-01</th>\n",
       "      <td>19121.112</td>\n",
       "      <td>112.664</td>\n",
       "    </tr>\n",
       "    <tr>\n",
       "      <th>2019-10-01</th>\n",
       "      <td>19221.970</td>\n",
       "      <td>113.043</td>\n",
       "    </tr>\n",
       "  </tbody>\n",
       "</table>\n",
       "<p>140 rows × 2 columns</p>\n",
       "</div>"
      ],
      "text/plain": [
       "                GDPC1   GDPDEF\n",
       "DATE                          \n",
       "1985-01-01   7824.247   54.065\n",
       "1985-04-01   7893.136   54.413\n",
       "1985-07-01   8013.674   54.741\n",
       "1985-10-01   8073.239   55.047\n",
       "1986-01-01   8148.603   55.321\n",
       "...               ...      ...\n",
       "2018-10-01  18783.548  111.256\n",
       "2019-01-01  18927.281  111.473\n",
       "2019-04-01  19021.860  112.188\n",
       "2019-07-01  19121.112  112.664\n",
       "2019-10-01  19221.970  113.043\n",
       "\n",
       "[140 rows x 2 columns]"
      ]
     },
     "execution_count": 7,
     "metadata": {},
     "output_type": "execute_result"
    }
   ],
   "source": [
    "ts"
   ]
  },
  {
   "cell_type": "code",
   "execution_count": 8,
   "metadata": {},
   "outputs": [],
   "source": [
    "ts = np.log(ts).diff(axis=0)\n",
    "ts = ts.rename(columns={'GDPC1':'gdp_growth', 'GDPDEF': 'infl_growth'})\n",
    "ts = ts.dropna()"
   ]
  },
  {
   "cell_type": "code",
   "execution_count": 9,
   "metadata": {},
   "outputs": [
    {
     "name": "stdout",
     "output_type": "stream",
     "text": [
      "  Summary of Regression Results   \n",
      "==================================\n",
      "Model:                         VAR\n",
      "Method:                        OLS\n",
      "Date:           Fri, 29, May, 2020\n",
      "Time:                     13:24:37\n",
      "--------------------------------------------------------------------\n",
      "No. of Equations:         2.00000    BIC:                   -22.9567\n",
      "Nobs:                     138.000    HQIC:                  -23.0323\n",
      "Log likelihood:           1207.17    FPE:                9.43511e-11\n",
      "AIC:                     -23.0840    Det(Omega_mle):     9.03789e-11\n",
      "--------------------------------------------------------------------\n",
      "Results for equation gdp_growth\n",
      "=================================================================================\n",
      "                    coefficient       std. error           t-stat            prob\n",
      "---------------------------------------------------------------------------------\n",
      "const                  0.004913         0.001196            4.107           0.000\n",
      "L1.gdp_growth          0.371829         0.080094            4.642           0.000\n",
      "L1.infl_growth        -0.163740         0.192187           -0.852           0.394\n",
      "=================================================================================\n",
      "\n",
      "Results for equation infl_growth\n",
      "=================================================================================\n",
      "                    coefficient       std. error           t-stat            prob\n",
      "---------------------------------------------------------------------------------\n",
      "const                  0.001532         0.000407            3.762           0.000\n",
      "L1.gdp_growth          0.078985         0.027276            2.896           0.004\n",
      "L1.infl_growth         0.611702         0.065448            9.346           0.000\n",
      "=================================================================================\n",
      "\n",
      "Correlation matrix of residuals\n",
      "               gdp_growth  infl_growth\n",
      "gdp_growth       1.000000     0.049720\n",
      "infl_growth      0.049720     1.000000\n",
      "\n",
      "\n",
      "\n"
     ]
    },
    {
     "name": "stderr",
     "output_type": "stream",
     "text": [
      "/Users/danielmpfeffer/anaconda3/lib/python3.7/site-packages/statsmodels/tsa/base/tsa_model.py:162: ValueWarning: No frequency information was provided, so inferred frequency QS-OCT will be used.\n",
      "  % freq, ValueWarning)\n"
     ]
    }
   ],
   "source": [
    "mod = VAR(ts)\n",
    "res = mod.fit(maxlags=1)\n",
    "print(res.summary())"
   ]
  },
  {
   "cell_type": "code",
   "execution_count": 10,
   "metadata": {},
   "outputs": [
    {
     "data": {
      "text/plain": [
       "array([[0.45366449, 0.52986614]])"
      ]
     },
     "execution_count": 10,
     "metadata": {},
     "output_type": "execute_result"
    }
   ],
   "source": [
    "# Eigenvalues of Phi_1\n",
    "np.linalg.eig(res.coefs)[0]"
   ]
  },
  {
   "cell_type": "code",
   "execution_count": 11,
   "metadata": {},
   "outputs": [
    {
     "data": {
      "text/plain": [
       "gdp_growth     0.006466\n",
       "infl_growth    0.005306\n",
       "dtype: float64"
      ]
     },
     "execution_count": 11,
     "metadata": {},
     "output_type": "execute_result"
    }
   ],
   "source": [
    "ts.mean()"
   ]
  },
  {
   "cell_type": "code",
   "execution_count": 12,
   "metadata": {},
   "outputs": [
    {
     "data": {
      "text/plain": [
       "array([0.00645084, 0.00525846])"
      ]
     },
     "execution_count": 12,
     "metadata": {},
     "output_type": "execute_result"
    }
   ],
   "source": [
    "res.mean()"
   ]
  },
  {
   "cell_type": "code",
   "execution_count": 13,
   "metadata": {},
   "outputs": [
    {
     "data": {
      "text/plain": [
       "array([[3.17930275e-05, 1.09289459e-06],\n",
       "       [1.09289459e-06, 5.54773256e-06]])"
      ]
     },
     "execution_count": 13,
     "metadata": {},
     "output_type": "execute_result"
    }
   ],
   "source": [
    "np.cov(ts['gdp_growth'], ts['infl_growth'])"
   ]
  },
  {
   "cell_type": "code",
   "execution_count": 14,
   "metadata": {},
   "outputs": [
    {
     "data": {
      "text/plain": [
       "array([[3.24573646e-05, 1.09283191e-06],\n",
       "       [1.09283191e-06, 5.67189506e-06]])"
      ]
     },
     "execution_count": 14,
     "metadata": {},
     "output_type": "execute_result"
    }
   ],
   "source": [
    "S_hat = res.acf(0)[0]; S_hat"
   ]
  },
  {
   "cell_type": "code",
   "execution_count": 10,
   "metadata": {},
   "outputs": [],
   "source": [
    "from numpy.random import multivariate_normal\n",
    "\n",
    "def inv_wishart(df, S):\n",
    "    n = S.shape[0]\n",
    "    Z = multivariate_normal(np.zeros(n), np.linalg.inv(S), df)\n",
    "    ZTZ = Z.T @ Z\n",
    "    return np.linalg.inv(ZTZ)"
   ]
  },
  {
   "cell_type": "code",
   "execution_count": 11,
   "metadata": {},
   "outputs": [],
   "source": [
    "ts = sm.add_constant(ts)\n",
    "X = ts.values\n",
    "XTX_inv = np.linalg.inv(X.T @ X)\n",
    "Phi_00 = res.intercept[0]\n",
    "Phi_01 = res.coefs.flatten()[0]\n",
    "Phi_02 = res.coefs.flatten()[1]\n",
    "Phi_10 = res.intercept[1]\n",
    "Phi_11 = res.coefs.flatten()[2]\n",
    "Phi_12 = res.coefs.flatten()[3]\n",
    "vec_Phi = [Phi_00, Phi_01, Phi_02, Phi_10, Phi_11, Phi_12]"
   ]
  },
  {
   "cell_type": "code",
   "execution_count": 12,
   "metadata": {},
   "outputs": [],
   "source": [
    "# Direct sampling\n",
    "N = 100\n",
    "post = []\n",
    "for i in range(N):\n",
    "    S_iw = inv_wishart(df=137, S=S_hat)\n",
    "    S_mn = np.kron(S_iw, XTX_inv)\n",
    "    post.append(multivariate_normal(vec_Phi, S_mn).tolist())"
   ]
  },
  {
   "cell_type": "code",
   "execution_count": 13,
   "metadata": {},
   "outputs": [],
   "source": [
    "post_df = pd.DataFrame(np.array(post))\n",
    "post_df = post_df.rename(columns={0:'Phi_00', 1:'Phi_01', 2:'Phi_02', \n",
    "                                  3:'Phi_10', 4:'Phi_11', 5:'Phi_12'})"
   ]
  },
  {
   "cell_type": "code",
   "execution_count": 18,
   "metadata": {},
   "outputs": [
    {
     "name": "stdout",
     "output_type": "stream",
     "text": [
      "Mean(statistic=0.004928627032005828, minmax=(0.004910776170897808, 0.004946477893113849))\n",
      "Mean(statistic=0.3717883177063774, minmax=(0.37052467479469603, 0.37305196061805873))\n",
      "Mean(statistic=-0.1671901142363078, minmax=(-0.17018403740533034, -0.16419619106728528))\n",
      "Mean(statistic=0.0015340462970766964, minmax=(0.0015271641037738805, 0.0015409284903795124))\n",
      "Mean(statistic=0.07922454957156518, minmax=(0.07870235001244943, 0.07974674913068092))\n",
      "Mean(statistic=0.611266895210562, minmax=(0.6100894685304186, 0.6124443218907054))\n"
     ]
    }
   ],
   "source": [
    "from scipy.stats import bayes_mvs\n",
    "\n",
    "for i in post_df.columns:\n",
    "    print(bayes_mvs(post_df[i])[0])"
   ]
  },
  {
   "cell_type": "code",
   "execution_count": null,
   "metadata": {},
   "outputs": [],
   "source": []
  }
 ],
 "metadata": {
  "kernelspec": {
   "display_name": "Python 3",
   "language": "python",
   "name": "python3"
  },
  "language_info": {
   "codemirror_mode": {
    "name": "ipython",
    "version": 3
   },
   "file_extension": ".py",
   "mimetype": "text/x-python",
   "name": "python",
   "nbconvert_exporter": "python",
   "pygments_lexer": "ipython3",
   "version": "3.7.7"
  }
 },
 "nbformat": 4,
 "nbformat_minor": 4
}
