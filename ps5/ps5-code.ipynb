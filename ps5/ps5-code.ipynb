{
 "cells": [
  {
   "cell_type": "code",
   "execution_count": 5,
   "metadata": {},
   "outputs": [
    {
     "name": "stderr",
     "output_type": "stream",
     "text": [
      "/Users/danielmpfeffer/anaconda3/lib/python3.7/site-packages/pandas_datareader/compat/__init__.py:7: FutureWarning: pandas.util.testing is deprecated. Use the functions in the public API at pandas.testing instead.\n",
      "  from pandas.util.testing import assert_frame_equal\n"
     ]
    }
   ],
   "source": [
    "import numpy as np\n",
    "import matplotlib.pyplot as plt\n",
    "import pandas as pd\n",
    "import statsmodels.api as sm\n",
    "from statsmodels.tsa.api import VAR\n",
    "import pandas_datareader.data as web\n",
    "import datetime"
   ]
  },
  {
   "cell_type": "code",
   "execution_count": 6,
   "metadata": {},
   "outputs": [],
   "source": [
    "# 1984:Q1 to 2015:Q4\n",
    "start = datetime.datetime(1985, 1, 1)\n",
    "end = datetime.datetime(2019, 12, 31)\n",
    "\n",
    "# Quarterly U.S. real GDP from the FRED\n",
    "ts = web.DataReader(['GDPC1', 'GDPDEF'], 'fred', start, end)"
   ]
  },
  {
   "cell_type": "code",
   "execution_count": 8,
   "metadata": {},
   "outputs": [],
   "source": [
    "ts = np.log(ts).diff(axis=0)\n",
    "ts = ts.rename(columns={'GDPC1':'gdp_growth', 'GDPDEF': 'infl_growth'})\n",
    "ts = ts.dropna()"
   ]
  },
  {
   "cell_type": "code",
   "execution_count": 9,
   "metadata": {},
   "outputs": [
    {
     "name": "stdout",
     "output_type": "stream",
     "text": [
      "  Summary of Regression Results   \n",
      "==================================\n",
      "Model:                         VAR\n",
      "Method:                        OLS\n",
      "Date:           Fri, 29, May, 2020\n",
      "Time:                     13:24:37\n",
      "--------------------------------------------------------------------\n",
      "No. of Equations:         2.00000    BIC:                   -22.9567\n",
      "Nobs:                     138.000    HQIC:                  -23.0323\n",
      "Log likelihood:           1207.17    FPE:                9.43511e-11\n",
      "AIC:                     -23.0840    Det(Omega_mle):     9.03789e-11\n",
      "--------------------------------------------------------------------\n",
      "Results for equation gdp_growth\n",
      "=================================================================================\n",
      "                    coefficient       std. error           t-stat            prob\n",
      "---------------------------------------------------------------------------------\n",
      "const                  0.004913         0.001196            4.107           0.000\n",
      "L1.gdp_growth          0.371829         0.080094            4.642           0.000\n",
      "L1.infl_growth        -0.163740         0.192187           -0.852           0.394\n",
      "=================================================================================\n",
      "\n",
      "Results for equation infl_growth\n",
      "=================================================================================\n",
      "                    coefficient       std. error           t-stat            prob\n",
      "---------------------------------------------------------------------------------\n",
      "const                  0.001532         0.000407            3.762           0.000\n",
      "L1.gdp_growth          0.078985         0.027276            2.896           0.004\n",
      "L1.infl_growth         0.611702         0.065448            9.346           0.000\n",
      "=================================================================================\n",
      "\n",
      "Correlation matrix of residuals\n",
      "               gdp_growth  infl_growth\n",
      "gdp_growth       1.000000     0.049720\n",
      "infl_growth      0.049720     1.000000\n",
      "\n",
      "\n",
      "\n"
     ]
    },
    {
     "name": "stderr",
     "output_type": "stream",
     "text": [
      "/Users/danielmpfeffer/anaconda3/lib/python3.7/site-packages/statsmodels/tsa/base/tsa_model.py:162: ValueWarning: No frequency information was provided, so inferred frequency QS-OCT will be used.\n",
      "  % freq, ValueWarning)\n"
     ]
    }
   ],
   "source": [
    "mod = VAR(ts)\n",
    "res = mod.fit(maxlags=1)\n",
    "print(res.summary())"
   ]
  },
  {
   "cell_type": "code",
   "execution_count": 10,
   "metadata": {},
   "outputs": [
    {
     "data": {
      "text/plain": [
       "array([[0.45366449, 0.52986614]])"
      ]
     },
     "execution_count": 10,
     "metadata": {},
     "output_type": "execute_result"
    }
   ],
   "source": [
    "# Eigenvalues of Phi_1\n",
    "np.linalg.eig(res.coefs)[0]"
   ]
  },
  {
   "cell_type": "code",
   "execution_count": 11,
   "metadata": {},
   "outputs": [
    {
     "data": {
      "text/plain": [
       "gdp_growth     0.006466\n",
       "infl_growth    0.005306\n",
       "dtype: float64"
      ]
     },
     "execution_count": 11,
     "metadata": {},
     "output_type": "execute_result"
    }
   ],
   "source": [
    "ts.mean()"
   ]
  },
  {
   "cell_type": "code",
   "execution_count": 12,
   "metadata": {},
   "outputs": [
    {
     "data": {
      "text/plain": [
       "array([0.00645084, 0.00525846])"
      ]
     },
     "execution_count": 12,
     "metadata": {},
     "output_type": "execute_result"
    }
   ],
   "source": [
    "res.mean()"
   ]
  },
  {
   "cell_type": "code",
   "execution_count": 13,
   "metadata": {},
   "outputs": [
    {
     "data": {
      "text/plain": [
       "array([[3.17930275e-05, 1.09289459e-06],\n",
       "       [1.09289459e-06, 5.54773256e-06]])"
      ]
     },
     "execution_count": 13,
     "metadata": {},
     "output_type": "execute_result"
    }
   ],
   "source": [
    "np.cov(ts['gdp_growth'], ts['infl_growth'])"
   ]
  },
  {
   "cell_type": "code",
   "execution_count": 14,
   "metadata": {},
   "outputs": [
    {
     "data": {
      "text/plain": [
       "array([[3.24573646e-05, 1.09283191e-06],\n",
       "       [1.09283191e-06, 5.67189506e-06]])"
      ]
     },
     "execution_count": 14,
     "metadata": {},
     "output_type": "execute_result"
    }
   ],
   "source": [
    "S_hat = res.acf(0)[0]; S_hat"
   ]
  },
  {
   "cell_type": "code",
   "execution_count": 15,
   "metadata": {},
   "outputs": [],
   "source": [
    "from numpy.random import multivariate_normal\n",
    "\n",
    "def inv_wishart(df, S):\n",
    "    n = S.shape[0]\n",
    "    Z = multivariate_normal(np.zeros(n), np.linalg.inv(S), df)\n",
    "    ZTZ = Z.T @ Z\n",
    "    return np.linalg.inv(ZTZ)"
   ]
  },
  {
   "cell_type": "code",
   "execution_count": 16,
   "metadata": {},
   "outputs": [],
   "source": [
    "ts = sm.add_constant(ts)\n",
    "X = ts.values\n",
    "XTX_inv = np.linalg.inv(X.T @ X)\n",
    "Phi_00 = res.intercept[0]\n",
    "Phi_01 = res.coefs.flatten()[0]\n",
    "Phi_02 = res.coefs.flatten()[1]\n",
    "Phi_10 = res.intercept[1]\n",
    "Phi_11 = res.coefs.flatten()[2]\n",
    "Phi_12 = res.coefs.flatten()[3]\n",
    "vec_Phi = [Phi_00, Phi_01, Phi_02, Phi_10, Phi_11, Phi_12]"
   ]
  },
  {
   "cell_type": "code",
   "execution_count": 17,
   "metadata": {},
   "outputs": [],
   "source": [
    "# Direct sampling\n",
    "N = 100\n",
    "post = []\n",
    "for i in range(N):\n",
    "    S_iw = inv_wishart(df=137, S=S_hat)\n",
    "    S_mn = np.kron(S_iw, XTX_inv)\n",
    "    post.append(multivariate_normal(vec_Phi, S_mn).tolist())"
   ]
  },
  {
   "cell_type": "code",
   "execution_count": 18,
   "metadata": {},
   "outputs": [],
   "source": [
    "post_df = pd.DataFrame(np.array(post))\n",
    "post_df = post_df.rename(columns={0:'Phi_00', 1:'Phi_01', 2:'Phi_02', \n",
    "                                  3:'Phi_10', 4:'Phi_11', 5:'Phi_12'})"
   ]
  },
  {
   "cell_type": "code",
   "execution_count": 20,
   "metadata": {},
   "outputs": [
    {
     "name": "stdout",
     "output_type": "stream",
     "text": [
      "Mean(statistic=0.004895851784024967, minmax=(0.00487768777208448, 0.004914015795965454))\n",
      "Mean(statistic=0.3723825788217662, minmax=(0.37127050544226176, 0.37349465220127054))\n",
      "Mean(statistic=-0.161934525931735, minmax=(-0.16489918481281446, -0.15896986705065552))\n",
      "Mean(statistic=0.001530079714580191, minmax=(0.0015229547524876039, 0.001537204676672778))\n",
      "Mean(statistic=0.07915427425595717, minmax=(0.07866812364179285, 0.07964042487012149))\n",
      "Mean(statistic=0.6116748137317916, minmax=(0.6104763455370746, 0.6128732819265085))\n"
     ]
    }
   ],
   "source": [
    "from scipy.stats import bayes_mvs\n",
    "\n",
    "for i in post_df.columns:\n",
    "    print(bayes_mvs(post_df[i])[0])"
   ]
  },
  {
   "cell_type": "code",
   "execution_count": null,
   "metadata": {},
   "outputs": [],
   "source": []
  }
 ],
 "metadata": {
  "kernelspec": {
   "display_name": "Python 3",
   "language": "python",
   "name": "python3"
  },
  "language_info": {
   "codemirror_mode": {
    "name": "ipython",
    "version": 3
   },
   "file_extension": ".py",
   "mimetype": "text/x-python",
   "name": "python",
   "nbconvert_exporter": "python",
   "pygments_lexer": "ipython3",
   "version": "3.7.7"
  }
 },
 "nbformat": 4,
 "nbformat_minor": 4
}
